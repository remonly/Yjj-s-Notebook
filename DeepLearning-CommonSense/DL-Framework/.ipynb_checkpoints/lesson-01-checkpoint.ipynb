{
 "cells": [
  {
   "cell_type": "markdown",
   "id": "decimal-scenario",
   "metadata": {},
   "source": [
    "# 拟合学习目标"
   ]
  },
  {
   "cell_type": "markdown",
   "id": "accepting-productivity",
   "metadata": {},
   "source": [
    "## 直接求导\n",
    "最小二乘法\n",
    "\n",
    "复杂函数不可导/难以求导\n"
   ]
  },
  {
   "cell_type": "markdown",
   "id": "directed-pastor",
   "metadata": {},
   "source": [
    "## 随机下降"
   ]
  },
  {
   "cell_type": "code",
   "execution_count": 7,
   "id": "catholic-reservation",
   "metadata": {},
   "outputs": [
    {
     "ename": "NameError",
     "evalue": "name 'loss' is not defined",
     "output_type": "error",
     "traceback": [
      "\u001b[0;31m---------------------------------------------------------------------------\u001b[0m",
      "\u001b[0;31mNameError\u001b[0m                                 Traceback (most recent call last)",
      "\u001b[0;32m<ipython-input-7-f14bddbda583>\u001b[0m in \u001b[0;36m<module>\u001b[0;34m\u001b[0m\n\u001b[1;32m     12\u001b[0m     \u001b[0mk\u001b[0m\u001b[0;34m,\u001b[0m \u001b[0mb\u001b[0m \u001b[0;34m=\u001b[0m \u001b[0mrandom\u001b[0m\u001b[0;34m.\u001b[0m\u001b[0mrandrange\u001b[0m\u001b[0;34m(\u001b[0m\u001b[0mmin_v\u001b[0m\u001b[0;34m,\u001b[0m \u001b[0mmax_v\u001b[0m\u001b[0;34m)\u001b[0m\u001b[0;34m,\u001b[0m \u001b[0mrandom\u001b[0m\u001b[0;34m.\u001b[0m\u001b[0mrandrange\u001b[0m\u001b[0;34m(\u001b[0m\u001b[0mmin_v\u001b[0m\u001b[0;34m,\u001b[0m \u001b[0mmax_v\u001b[0m\u001b[0;34m)\u001b[0m\u001b[0;34m\u001b[0m\u001b[0m\n\u001b[1;32m     13\u001b[0m     \u001b[0my_hats\u001b[0m \u001b[0;34m=\u001b[0m \u001b[0;34m[\u001b[0m\u001b[0mk\u001b[0m \u001b[0;34m*\u001b[0m \u001b[0mrm_i\u001b[0m  \u001b[0;34m+\u001b[0m \u001b[0mb\u001b[0m \u001b[0;32mfor\u001b[0m \u001b[0mrm_i\u001b[0m \u001b[0;32min\u001b[0m \u001b[0mx\u001b[0m\u001b[0;34m]\u001b[0m\u001b[0;34m\u001b[0m\u001b[0m\n\u001b[0;32m---> 14\u001b[0;31m     \u001b[0mcurrent_loss\u001b[0m \u001b[0;34m=\u001b[0m \u001b[0mloss\u001b[0m\u001b[0;34m(\u001b[0m\u001b[0my_hats\u001b[0m\u001b[0;34m,\u001b[0m \u001b[0my\u001b[0m\u001b[0;34m)\u001b[0m\u001b[0;34m\u001b[0m\u001b[0m\n\u001b[0m\u001b[1;32m     15\u001b[0m     \u001b[0;31m# 下降 - 体现在随着loss降低，选取拟合程度更好的weight\u001b[0m\u001b[0;34m\u001b[0m\u001b[0;34m\u001b[0m\u001b[0m\n\u001b[1;32m     16\u001b[0m     \u001b[0;31m# 由于是随机选取，没有选择最优的下降方向，需要pass dataset很多次，才有概率获得下降\u001b[0m\u001b[0;34m\u001b[0m\u001b[0;34m\u001b[0m\u001b[0m\n",
      "\u001b[0;31mNameError\u001b[0m: name 'loss' is not defined"
     ]
    }
   ],
   "source": [
    "import random\n",
    "\n",
    "def loss(y_hat, y):\n",
    "    return np.mean((y_hat - y) ** 2)\n",
    "\n",
    "min_loss = float('inf')\n",
    "best_k, bes_b = None, None\n",
    "\n",
    "x = [1.1,6.4,5.5,7.8]\n",
    "y = [3.4,5.6,4.5,9.0]\n",
    "\n",
    "for step in range(1000):\n",
    "    min_v, max_v = -100, 100\n",
    "    # 设置min max - 范围越大，约有找到最优解的可能，计算量也随之上升\n",
    "    # 随机 - 体现在对于weight的选取上\n",
    "    k, b = random.randrange(min_v, max_v), random.randrange(min_v, max_v)\n",
    "    y_hats = [k * rm_i  + b for rm_i in x]\n",
    "    current_loss = loss(y_hats, y)\n",
    "    # 下降 - 体现在随着loss降低，选取拟合程度更好的weight\n",
    "    # 由于是随机选取，没有选择最优的下降方向，需要pass dataset很多次，才有概率获得下降\n",
    "    if current_loss < min_loss:\n",
    "        min_loss = current_loss\n",
    "        best_k, best_b = k, b\n",
    "        print('在第{}步，我们获得了函数 f(rm) = {} * rm + {}, 此时loss是: {}'.format(step, k, b, current_loss))"
   ]
  },
  {
   "cell_type": "markdown",
   "id": "parliamentary-filename",
   "metadata": {},
   "source": [
    "初始时刻，更新频繁\n",
    "\n",
    "后续得不到有效的更新指导\n",
    "\n",
    "对于一个期望的足够小的loss，计算慢\n",
    "\n",
    "**如何更有效地更新梯度？**"
   ]
  },
  {
   "cell_type": "markdown",
   "id": "greater-germany",
   "metadata": {},
   "source": [
    "## 梯度下降\n",
    "$$ Loss(k, b) = \\frac{1}{n} \\sum_{i \\in N} ((k * rm_i + b) - y_i) ^ 2 $$\n",
    "\n",
    "$$ \\frac{\\partial{loss(k, b)}}{\\partial{k}} = \\frac{2}{n}\\sum_{i \\in N}(k * rm_i + b - y_i) * rm_i $$\n",
    "\n",
    "$$ \\frac{\\partial{loss(k, b)}}{\\partial{b}} = \\frac{2}{n}\\sum_{i \\in N}(k * rm_i + b - y_i)$$"
   ]
  },
  {
   "cell_type": "code",
   "execution_count": 5,
   "id": "blocked-cursor",
   "metadata": {},
   "outputs": [],
   "source": [
    "def partial_k(k, b, x, y):\n",
    "    return 2 * np.mean((k * x + b - y) * x)\n",
    "\n",
    "def partial_b(k, b, x, y):\n",
    "    return 2 * np.mean(k * x + b - y)"
   ]
  },
  {
   "cell_type": "code",
   "execution_count": null,
   "id": "external-jumping",
   "metadata": {},
   "outputs": [],
   "source": []
  }
 ],
 "metadata": {
  "kernelspec": {
   "display_name": "Python 3",
   "language": "python",
   "name": "python3"
  },
  "language_info": {
   "codemirror_mode": {
    "name": "ipython",
    "version": 3
   },
   "file_extension": ".py",
   "mimetype": "text/x-python",
   "name": "python",
   "nbconvert_exporter": "python",
   "pygments_lexer": "ipython3",
   "version": "3.6.3"
  }
 },
 "nbformat": 4,
 "nbformat_minor": 5
}
