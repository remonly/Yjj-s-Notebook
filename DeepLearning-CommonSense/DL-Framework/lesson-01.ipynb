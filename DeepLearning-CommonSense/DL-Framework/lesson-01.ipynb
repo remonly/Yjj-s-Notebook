{
 "cells": [
  {
   "cell_type": "markdown",
   "id": "sought-waste",
   "metadata": {},
   "source": [
    "# 拟合学习目标"
   ]
  },
  {
   "cell_type": "markdown",
   "id": "valuable-munich",
   "metadata": {},
   "source": [
    "## 直接求导\n",
    "最小二乘法\n",
    "\n",
    "复杂函数不可导/难以求导\n"
   ]
  },
  {
   "cell_type": "markdown",
   "id": "adolescent-renewal",
   "metadata": {},
   "source": [
    "## 随机下降"
   ]
  },
  {
   "cell_type": "code",
   "execution_count": 10,
   "id": "numerical-vocabulary",
   "metadata": {},
   "outputs": [
    {
     "name": "stdout",
     "output_type": "stream",
     "text": [
      "在第0步，我们获得了函数 f(rm) = -80 * rm + -34, 此时loss是: 248459.7425\n",
      "在第1步，我们获得了函数 f(rm) = -58 * rm + -99, 此时loss是: 186640.6225\n",
      "在第2步，我们获得了函数 f(rm) = 29 * rm + -27, 此时loss是: 18992.822500000002\n",
      "在第3步，我们获得了函数 f(rm) = -9 * rm + 61, 此时loss是: 665.0925000000002\n",
      "在第82步，我们获得了函数 f(rm) = 2 * rm + -17, 此时loss是: 161.42249999999999\n",
      "在第153步，我们获得了函数 f(rm) = 4 * rm + -12, 此时loss是: 79.8225\n",
      "在第832步，我们获得了函数 f(rm) = 3 * rm + -4, 此时loss是: 70.28250000000001\n"
     ]
    }
   ],
   "source": [
    "import random\n",
    "import numpy as np\n",
    "\n",
    "def loss(y_hat, y):\n",
    "    return np.mean((y_hat - y) ** 2)\n",
    "\n",
    "min_loss = float('inf')\n",
    "best_k, bes_b = None, None\n",
    "\n",
    "x = np.array([1.1,6.4,5.5,7.8])\n",
    "y = np.array([3.4,5.6,4.5,9.0])\n",
    "\n",
    "for step in range(1000):\n",
    "    min_v, max_v = -100, 100\n",
    "    # 设置min max - 范围越大，约有找到最优解的可能，计算量也随之上升\n",
    "    # 随机 - 体现在对于weight的选取上\n",
    "    k, b = random.randrange(min_v, max_v), random.randrange(min_v, max_v)\n",
    "    y_hats = [k * rm_i  + b for rm_i in x]\n",
    "    current_loss = loss(y_hats, y)\n",
    "    # 下降 - 体现在随着loss降低，选取拟合程度更好的weight\n",
    "    # 由于是随机选取，没有选择最优的下降方向，需要pass dataset很多次，才有概率获得下降\n",
    "    if current_loss < min_loss:\n",
    "        min_loss = current_loss\n",
    "        best_k, best_b = k, b\n",
    "        print('在第{}步，我们获得了函数 f(rm) = {} * rm + {}, 此时loss是: {}'.format(step, k, b, current_loss))"
   ]
  },
  {
   "cell_type": "markdown",
   "id": "broken-geneva",
   "metadata": {},
   "source": [
    "初始时刻，更新频繁\n",
    "\n",
    "后续得不到有效的更新指导\n",
    "\n",
    "对于一个期望的足够小的loss，计算慢\n",
    "\n",
    "**如何更有效地更新梯度？**"
   ]
  },
  {
   "cell_type": "markdown",
   "id": "scientific-martial",
   "metadata": {},
   "source": [
    "## 梯度下降\n",
    "$$ Loss(k, b) = \\frac{1}{n} \\sum_{i \\in N} ((k * rm_i + b) - y_i) ^ 2 $$\n",
    "\n",
    "$$ \\frac{\\partial{loss(k, b)}}{\\partial{k}} = \\frac{2}{n}\\sum_{i \\in N}(k * rm_i + b - y_i) * rm_i $$\n",
    "\n",
    "$$ \\frac{\\partial{loss(k, b)}}{\\partial{b}} = \\frac{2}{n}\\sum_{i \\in N}(k * rm_i + b - y_i)$$"
   ]
  },
  {
   "cell_type": "code",
   "execution_count": 5,
   "id": "otherwise-passion",
   "metadata": {},
   "outputs": [],
   "source": [
    "def partial_k(k, b, x, y):\n",
    "    return 2 * np.mean((k * x + b - y) * x)\n",
    "\n",
    "def partial_b(k, b, x, y):\n",
    "    return 2 * np.mean(k * x + b - y)"
   ]
  },
  {
   "cell_type": "code",
   "execution_count": null,
   "id": "unexpected-reliance",
   "metadata": {},
   "outputs": [],
   "source": []
  }
 ],
 "metadata": {
  "kernelspec": {
   "display_name": "Python 3",
   "language": "python",
   "name": "python3"
  },
  "language_info": {
   "codemirror_mode": {
    "name": "ipython",
    "version": 3
   },
   "file_extension": ".py",
   "mimetype": "text/x-python",
   "name": "python",
   "nbconvert_exporter": "python",
   "pygments_lexer": "ipython3",
   "version": "3.6.3"
  }
 },
 "nbformat": 4,
 "nbformat_minor": 5
}
