{
 "cells": [
  {
   "cell_type": "markdown",
   "id": "personalized-america",
   "metadata": {},
   "source": [
    "# What is RestFul"
   ]
  },
  {
   "cell_type": "markdown",
   "id": "incomplete-jersey",
   "metadata": {},
   "source": [
    "## RestFul\n",
    "一种软件架构风格。若一个架构遵循Rest设计原则，则该架构就是RestFul架构。\n",
    "\n",
    "ES大量使用了RestFul API。"
   ]
  },
  {
   "cell_type": "markdown",
   "id": "spiritual-publisher",
   "metadata": {},
   "source": [
    "## Rest\n",
    "一种设计原则/设计约定（非设计标准/规范）。\n",
    "\n",
    "（资源的）表现层状态转化——（Resource） Representational State Transfer。\n",
    "\n",
    "* 资源：网络中的一切事物统称为资源，e.g. 音频、图片、静态页面、数据库记录……; 每个资源都需要唯一的资源定位符——URL;\n",
    "* 表现层：资源具体呈现出来的形式，e.g. 音频的播放、图片的呈现、页面通过浏览器访问、记录的展示……（类似MVC中的View）\n",
    "* 状态转化：如果客户端想操作服务器中的资源，必须通过某种手段，让服务器端的资源发生“状态转化”（用户对资源进行某种状态的操作）。\n",
    "\n",
    "这种状态转化是建立在表现层之上的，因此称为**“表现层状态转化”**。\n",
    "\n",
    "### 原则\n",
    "**使用Rest的URL替换传统URL**\n",
    "* 传统URL：?后的被视为参数，非URL本身，因此URL不唯一，e.g. http://localhost:8989/xxx/yyy?id=21\n",
    "* RestURL：将?参数与其他部分合并到URL路径中，e.g. http://localhost:8989/xxx/yyy/21\n",
    "\n",
    "**四种动词对应服务端的四种操作（CRUD 增删改查，浏览器不支持，但HPPT协议支持）**\n",
    "* 原始方法：GET url / POST url(update/delete/insert/find)，只有到服务器端解析url才知道是什么操作\n",
    "* 客户端提出新的请求方式/动词 对应 服务器端的四种操作：GET（查询） POST（更新|添加） PUT（添加|更新） DELETE（删除）\n",
    "\n",
    "**通常服务返回的数据都是JSON格式或XML格式**（考虑到跨系统）\n",
    "\n",
    "### 使用Restful风格API时，需要根据REST原则进行调用"
   ]
  },
  {
   "cell_type": "markdown",
   "id": "japanese-hamburg",
   "metadata": {},
   "source": [
    "# What is 全文检索"
   ]
  },
  {
   "cell_type": "markdown",
   "id": "genuine-presentation",
   "metadata": {},
   "source": [
    "Lucene是之前使用的全文检索引擎，但API相对复杂。ES对其进行了进一步优化，提供了简单易用的RestFul API。\n",
    "\n",
    "## 全文检索（Full-Text Retrieval）\n",
    "**建立索引**：扫描文章的每个词，对词建立索引，指明该词在文章中出现的次数和位置。\n",
    "\n",
    "**检索索引**：用户查询时，以文本作为检索对象，找出含有指定词汇的文本。\n",
    "\n",
    "**全面、准确、快速** 是衡量全文检索系统的关键指标。\n",
    "\n",
    "### 注意事项：\n",
    "* 只处理文本，不处理语义。\n",
    "* 搜索英文是不区分大小写。\n",
    "* 检索结果具有相关度排序。"
   ]
  },
  {
   "cell_type": "markdown",
   "id": "mineral-cradle",
   "metadata": {},
   "source": [
    "# ES简介\n",
    "## ES技术栈\n",
    "Beats + ES + Kibana + logstash"
   ]
  }
 ],
 "metadata": {
  "kernelspec": {
   "display_name": "Python 3",
   "language": "python",
   "name": "python3"
  },
  "language_info": {
   "codemirror_mode": {
    "name": "ipython",
    "version": 3
   },
   "file_extension": ".py",
   "mimetype": "text/x-python",
   "name": "python",
   "nbconvert_exporter": "python",
   "pygments_lexer": "ipython3",
   "version": "3.6.3"
  }
 },
 "nbformat": 4,
 "nbformat_minor": 5
}
